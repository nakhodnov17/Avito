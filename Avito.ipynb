{
 "cells": [
  {
   "cell_type": "markdown",
   "metadata": {},
   "source": [
    "Устанавливаем необходимые пакеты"
   ]
  },
  {
   "cell_type": "code",
   "execution_count": 30,
   "metadata": {},
   "outputs": [
    {
     "name": "stdout",
     "output_type": "stream",
     "text": [
      "Requirement already satisfied: pymystem3 in c:\\users\\nahod\\appdata\\roaming\\python\\python37\\site-packages (0.2.0)\n",
      "Requirement already satisfied: scipy in c:\\users\\nahod\\appdata\\roaming\\python\\python37\\site-packages (1.2.1)\n",
      "Requirement already satisfied: numpy in c:\\users\\nahod\\appdata\\roaming\\python\\python37\\site-packages (1.16.1)\n",
      "Requirement already satisfied: pandas in c:\\program files\\python37\\lib\\site-packages (0.24.2)\n",
      "Requirement already satisfied: nltk in c:\\users\\nahod\\appdata\\roaming\\python\\python37\\site-packages (3.3)\n",
      "Requirement already satisfied: tqdm in c:\\users\\nahod\\appdata\\roaming\\python\\python37\\site-packages (4.28.1)\n",
      "Requirement already satisfied: sklearn in c:\\users\\nahod\\appdata\\roaming\\python\\python37\\site-packages (0.0)\n",
      "Requirement already satisfied: requests in c:\\users\\nahod\\appdata\\roaming\\python\\python37\\site-packages (from pymystem3) (2.19.1)\n",
      "Requirement already satisfied: pytz>=2011k in c:\\users\\nahod\\appdata\\roaming\\python\\python37\\site-packages (from pandas) (2018.7)\n",
      "Requirement already satisfied: python-dateutil>=2.5.0 in c:\\users\\nahod\\appdata\\roaming\\python\\python37\\site-packages (from pandas) (2.8.0)\n",
      "Requirement already satisfied: six in c:\\users\\nahod\\appdata\\roaming\\python\\python37\\site-packages (from nltk) (1.11.0)\n",
      "Requirement already satisfied: scikit-learn in c:\\program files\\python37\\lib\\site-packages (from sklearn) (0.20.3)\n",
      "Requirement already satisfied: urllib3<1.24,>=1.21.1 in c:\\users\\nahod\\appdata\\roaming\\python\\python37\\site-packages (from requests->pymystem3) (1.22)\n",
      "Requirement already satisfied: chardet<3.1.0,>=3.0.2 in c:\\users\\nahod\\appdata\\roaming\\python\\python37\\site-packages (from requests->pymystem3) (3.0.4)\n",
      "Requirement already satisfied: idna<2.8,>=2.5 in c:\\users\\nahod\\appdata\\roaming\\python\\python37\\site-packages (from requests->pymystem3) (2.7)\n",
      "Requirement already satisfied: certifi>=2017.4.17 in c:\\program files\\python37\\lib\\site-packages (from requests->pymystem3) (2019.3.9)\n"
     ]
    },
    {
     "name": "stderr",
     "output_type": "stream",
     "text": [
      "You are using pip version 19.0.2, however version 19.1 is available.\n",
      "You should consider upgrading via the 'python -m pip install --upgrade pip' command.\n"
     ]
    }
   ],
   "source": [
    "! pip install pymystem3 scipy numpy pandas nltk tqdm sklearn --user"
   ]
  },
  {
   "cell_type": "code",
   "execution_count": 31,
   "metadata": {},
   "outputs": [
    {
     "name": "stdout",
     "output_type": "stream",
     "text": [
      "[nltk_data] Downloading package stopwords to\n",
      "[nltk_data]     C:\\Users\\nahod\\AppData\\Roaming\\nltk_data...\n",
      "[nltk_data]   Package stopwords is already up-to-date!\n"
     ]
    }
   ],
   "source": [
    "import os\n",
    "import scipy\n",
    "import numpy as np\n",
    "import pandas as pd\n",
    "\n",
    "\n",
    "import nltk.corpus\n",
    "from tqdm import tqdm\n",
    "from pymystem3 import Mystem\n",
    "from string import punctuation\n",
    "\n",
    "from sklearn.metrics import accuracy_score\n",
    "from sklearn.preprocessing import MaxAbsScaler\n",
    "from sklearn.linear_model import LogisticRegression\n",
    "from sklearn.model_selection import train_test_split\n",
    "from sklearn.feature_extraction.text import TfidfVectorizer\n",
    "\n",
    "nltk.download('stopwords')\n",
    "\n",
    "tqdm.pandas()"
   ]
  },
  {
   "cell_type": "markdown",
   "metadata": {},
   "source": [
    "Выполним предобработку данных: так как поля title, description текстовые, то произведём следующие действия:\n",
    "* Удалим все символы кроме букв и цифр\n",
    "* Приведём все символы к нижнему регистру\n",
    "* С помощью библиотеки pymystem3 проведём лемматизацию слов. "
   ]
  },
  {
   "cell_type": "code",
   "execution_count": 32,
   "metadata": {},
   "outputs": [],
   "source": [
    "stemmer = Mystem() \n",
    "punctuation = [p for p in '!\"#$%&\\'()*+,-./:;<=>?@[\\\\]^_`{|}~«»']\n",
    "stopwords = nltk.corpus.stopwords.words(\"russian\") + nltk.corpus.stopwords.words(\"english\")\n",
    "\n",
    "def preprocess_text(text):\n",
    "    text = ''.join([c if c not in punctuation else ' ' for c in text])\n",
    "    tokens = stemmer.lemmatize(text.lower())\n",
    "\n",
    "    tokens = [subtoken \n",
    "              for token in tokens \n",
    "              for subtoken in token.split() \n",
    "              if subtoken not in stopwords\\\n",
    "              and subtoken != \" \" and subtoken != '\\n'\n",
    "             ]\n",
    "    \n",
    "    text = \" \".join(tokens)\n",
    "    \n",
    "    return text\n",
    "\n",
    "def preprocessor(val):\n",
    "    val['title'] = preprocess_text(val['title'])\n",
    "    val['description'] = preprocess_text(val['description'])\n",
    "    return val"
   ]
  },
  {
   "cell_type": "code",
   "execution_count": 33,
   "metadata": {},
   "outputs": [],
   "source": [
    "# Path to the data\n",
    "base_path = './data'"
   ]
  },
  {
   "cell_type": "code",
   "execution_count": 34,
   "metadata": {},
   "outputs": [],
   "source": [
    "test, train = None, None\n",
    "\n",
    "categories_path = os.path.join(base_path, 'category.csv')\n",
    "\n",
    "test_path = os.path.join(base_path, 'test.csv')\n",
    "train_path = os.path.join(base_path, 'train.csv')\n",
    "\n",
    "test_stemmed_path = os.path.join(base_path, 'test_stemmed.csv')\n",
    "train_stemmed_path = os.path.join(base_path, 'train_stemmed.csv')\n",
    "\n",
    "if os.path.isfile(test_stemmed_path):\n",
    "    test = pd.read_csv(test_stemmed_path).fillna('')\n",
    "else:\n",
    "    test = pd.read_csv(test_path).fillna('')\n",
    "    test = test.progress_apply(preprocessor, axis=1)\n",
    "    test = test.fillna('')\n",
    "    test.to_csv(test_stemmed_path, index=False)\n",
    "\n",
    "if os.path.isfile(train_stemmed_path):\n",
    "    train = pd.read_csv(train_stemmed_path).fillna('')\n",
    "else:\n",
    "    train = pd.read_csv(train_path).fillna('')\n",
    "    train = train.progress_apply(preprocessor, axis=1)\n",
    "    train = train.fillna('')\n",
    "    train.to_csv(train_stemmed_path, index=False)"
   ]
  },
  {
   "cell_type": "markdown",
   "metadata": {},
   "source": [
    "Посмотрим на получившиеся данные"
   ]
  },
  {
   "cell_type": "code",
   "execution_count": 35,
   "metadata": {},
   "outputs": [
    {
     "data": {
      "text/html": [
       "<div>\n",
       "<style scoped>\n",
       "    .dataframe tbody tr th:only-of-type {\n",
       "        vertical-align: middle;\n",
       "    }\n",
       "\n",
       "    .dataframe tbody tr th {\n",
       "        vertical-align: top;\n",
       "    }\n",
       "\n",
       "    .dataframe thead th {\n",
       "        text-align: right;\n",
       "    }\n",
       "</style>\n",
       "<table border=\"1\" class=\"dataframe\">\n",
       "  <thead>\n",
       "    <tr style=\"text-align: right;\">\n",
       "      <th></th>\n",
       "      <th>item_id</th>\n",
       "      <th>title</th>\n",
       "      <th>description</th>\n",
       "      <th>price</th>\n",
       "    </tr>\n",
       "  </thead>\n",
       "  <tbody>\n",
       "    <tr>\n",
       "      <th>0</th>\n",
       "      <td>489517</td>\n",
       "      <td>стоик журнальный сталь</td>\n",
       "      <td>продавать журнальный столик изготовлять стол п...</td>\n",
       "      <td>10000.0</td>\n",
       "    </tr>\n",
       "    <tr>\n",
       "      <th>1</th>\n",
       "      <td>489518</td>\n",
       "      <td>iphone 5 64gb</td>\n",
       "      <td>телефон хороший состояние комплект гарантия са...</td>\n",
       "      <td>12500.0</td>\n",
       "    </tr>\n",
       "    <tr>\n",
       "      <th>2</th>\n",
       "      <td>489519</td>\n",
       "      <td>утеплитель</td>\n",
       "      <td>теплопельный лидер тепло толщина утеплитель 20...</td>\n",
       "      <td>250.0</td>\n",
       "    </tr>\n",
       "    <tr>\n",
       "      <th>3</th>\n",
       "      <td>489520</td>\n",
       "      <td>пальто демисезонный</td>\n",
       "      <td>продавать пальто женский букле отличный состоя...</td>\n",
       "      <td>1700.0</td>\n",
       "    </tr>\n",
       "    <tr>\n",
       "      <th>4</th>\n",
       "      <td>489521</td>\n",
       "      <td>samsung syncmaster t200n</td>\n",
       "      <td>условно рабочий проблема панель настройка мони...</td>\n",
       "      <td>1000.0</td>\n",
       "    </tr>\n",
       "  </tbody>\n",
       "</table>\n",
       "</div>"
      ],
      "text/plain": [
       "   item_id                     title  \\\n",
       "0   489517    стоик журнальный сталь   \n",
       "1   489518             iphone 5 64gb   \n",
       "2   489519                утеплитель   \n",
       "3   489520       пальто демисезонный   \n",
       "4   489521  samsung syncmaster t200n   \n",
       "\n",
       "                                         description    price  \n",
       "0  продавать журнальный столик изготовлять стол п...  10000.0  \n",
       "1  телефон хороший состояние комплект гарантия са...  12500.0  \n",
       "2  теплопельный лидер тепло толщина утеплитель 20...    250.0  \n",
       "3  продавать пальто женский букле отличный состоя...   1700.0  \n",
       "4  условно рабочий проблема панель настройка мони...   1000.0  "
      ]
     },
     "execution_count": 35,
     "metadata": {},
     "output_type": "execute_result"
    }
   ],
   "source": [
    "test.head()"
   ]
  },
  {
   "cell_type": "code",
   "execution_count": 36,
   "metadata": {},
   "outputs": [
    {
     "data": {
      "text/html": [
       "<div>\n",
       "<style scoped>\n",
       "    .dataframe tbody tr th:only-of-type {\n",
       "        vertical-align: middle;\n",
       "    }\n",
       "\n",
       "    .dataframe tbody tr th {\n",
       "        vertical-align: top;\n",
       "    }\n",
       "\n",
       "    .dataframe thead th {\n",
       "        text-align: right;\n",
       "    }\n",
       "</style>\n",
       "<table border=\"1\" class=\"dataframe\">\n",
       "  <thead>\n",
       "    <tr style=\"text-align: right;\">\n",
       "      <th></th>\n",
       "      <th>item_id</th>\n",
       "      <th>title</th>\n",
       "      <th>description</th>\n",
       "      <th>price</th>\n",
       "      <th>category_id</th>\n",
       "    </tr>\n",
       "  </thead>\n",
       "  <tbody>\n",
       "    <tr>\n",
       "      <th>0</th>\n",
       "      <td>0</td>\n",
       "      <td>картина</td>\n",
       "      <td>гобелен размер 139х84см</td>\n",
       "      <td>1000.0</td>\n",
       "      <td>19</td>\n",
       "    </tr>\n",
       "    <tr>\n",
       "      <th>1</th>\n",
       "      <td>1</td>\n",
       "      <td>стул прессованный кожа</td>\n",
       "      <td>продавать недорого 4 стул светлый прессованный...</td>\n",
       "      <td>1250.0</td>\n",
       "      <td>22</td>\n",
       "    </tr>\n",
       "    <tr>\n",
       "      <th>2</th>\n",
       "      <td>2</td>\n",
       "      <td>домашний мини баня</td>\n",
       "      <td>мини баня мб 1 мини сауна предназначать принят...</td>\n",
       "      <td>13000.0</td>\n",
       "      <td>37</td>\n",
       "    </tr>\n",
       "    <tr>\n",
       "      <th>3</th>\n",
       "      <td>3</td>\n",
       "      <td>эксклюзивный коллекция книга трансаэро подарок</td>\n",
       "      <td>продавать эксклюзивный коллекция книга выпуска...</td>\n",
       "      <td>4000.0</td>\n",
       "      <td>43</td>\n",
       "    </tr>\n",
       "    <tr>\n",
       "      <th>4</th>\n",
       "      <td>4</td>\n",
       "      <td>ноутбук aser</td>\n",
       "      <td>продаваться ноутбук acer e5 511c2ta купить кон...</td>\n",
       "      <td>19000.0</td>\n",
       "      <td>1</td>\n",
       "    </tr>\n",
       "  </tbody>\n",
       "</table>\n",
       "</div>"
      ],
      "text/plain": [
       "   item_id                                           title  \\\n",
       "0        0                                         картина   \n",
       "1        1                          стул прессованный кожа   \n",
       "2        2                              домашний мини баня   \n",
       "3        3  эксклюзивный коллекция книга трансаэро подарок   \n",
       "4        4                                    ноутбук aser   \n",
       "\n",
       "                                         description    price  category_id  \n",
       "0                            гобелен размер 139х84см   1000.0           19  \n",
       "1  продавать недорого 4 стул светлый прессованный...   1250.0           22  \n",
       "2  мини баня мб 1 мини сауна предназначать принят...  13000.0           37  \n",
       "3  продавать эксклюзивный коллекция книга выпуска...   4000.0           43  \n",
       "4  продаваться ноутбук acer e5 511c2ta купить кон...  19000.0            1  "
      ]
     },
     "execution_count": 36,
     "metadata": {},
     "output_type": "execute_result"
    }
   ],
   "source": [
    "train.head()"
   ]
  },
  {
   "cell_type": "markdown",
   "metadata": {},
   "source": [
    "Набор классов и функций для отображения качества модели на всех уровнях иерархии категорий"
   ]
  },
  {
   "cell_type": "code",
   "execution_count": 37,
   "metadata": {},
   "outputs": [],
   "source": [
    "categories_pure = pd.read_csv(categories_path)\n",
    "categories = []\n",
    "for _, __ in categories_pure.iterrows():\n",
    "    categories.append([__[0], __[1].split('|')])"
   ]
  },
  {
   "cell_type": "code",
   "execution_count": 38,
   "metadata": {
    "code_folding": [
     0,
     9
    ]
   },
   "outputs": [],
   "source": [
    "class SingleClassPredictor:\n",
    "    def __init__(self, class_id):\n",
    "        self.class_id = class_id\n",
    "    \n",
    "    def predict(self, x):\n",
    "        result = np.empty([x.shape[0]], dtype=np.int)\n",
    "        result[:] = self.class_id\n",
    "        return result\n",
    "    \n",
    "class Node:\n",
    "    def __init__(self, name, parent=None, base_model=None, *base_model_args, **base_model_kwargs):\n",
    "        self.name = name\n",
    "        self.parent = parent\n",
    "        self.children = []\n",
    "        self.children_dict = dict()\n",
    "        \n",
    "        self.id = None\n",
    "        self.subtree_ids = []\n",
    "\n",
    "        self.base_model = base_model\n",
    "        self.base_model_args = base_model_args\n",
    "        self.base_model_kwargs = base_model_kwargs\n",
    "        \n",
    "        self.model = None\n",
    "        self.accuracy = 0.0\n",
    "\n",
    "        if parent:\n",
    "            self.parent.children.append(self)\n",
    "            self.parent.children_dict[name] = self\n",
    "    \n",
    "    def __str__(self):\n",
    "        if self.id != None:\n",
    "            return ' {0} Id: {1:d} Accuracy: {2:.3f} '.format(self.name, self.id, self.accuracy)\n",
    "        return ' {0} Accuracy: {1:.3f} '.format(self.name, self.accuracy)\n",
    "    \n",
    "    def build(self, lines):\n",
    "        for line in lines:\n",
    "            node = self\n",
    "            for category in line[1]:\n",
    "                if category in node.children_dict:\n",
    "                    node = node.children_dict[category]\n",
    "                else:\n",
    "                    node = Node(\n",
    "                        category, node, base_model=self.base_model, \n",
    "                        *self.base_model_args, **self.base_model_kwargs\n",
    "                    )\n",
    "            node.id = line[0]\n",
    "            \n",
    "        self.get_subtree_ids()\n",
    "        \n",
    "    def get_subtree_ids(self):\n",
    "        if len(self.children) == 0:\n",
    "            self.subtree_ids = [self.id, ]\n",
    "            return self.subtree_ids            \n",
    "        result = []\n",
    "        for node in self.children:\n",
    "            result += node.get_subtree_ids()\n",
    "        self.subtree_ids = list(sorted(result))\n",
    "        return self.subtree_ids\n",
    "    \n",
    "    def set_accurasies(self, y_true, y_predict):\n",
    "        idx_node = [idx for idx, value in enumerate(y_true) if value in self.subtree_ids]\n",
    "        self.accuracy = np.mean(y_true[idx_node] == y_predict[idx_node])\n",
    "        for node in self.children:\n",
    "            node.set_accurasies(y_true, y_predict)\n",
    "            \n",
    "    def _get_y_node(self, y):\n",
    "        y_node = []\n",
    "        for value in y:\n",
    "            for idx, node in enumerate(self.children):\n",
    "                if value in node.subtree_ids:\n",
    "                    y_node.append(idx)\n",
    "                    break\n",
    "        y_node = np.array(y_node)\n",
    "        return y_node\n",
    "        \n",
    "    def fit(self, x, y):\n",
    "        if len(self.children) == 0:\n",
    "            return\n",
    "        y_node = self._get_y_node(y)\n",
    "        if len(np.unique(y_node)) == 1:\n",
    "            self.model = SingleClassPredictor(y_node[0])\n",
    "        else:\n",
    "            self.model = self.base_model(*self.base_model_args, **self.base_model_kwargs)\n",
    "            self.model.fit(x, y_node)\n",
    "        for idx, node in enumerate(self.children):\n",
    "            idx_node = np.argwhere(y_node == idx).reshape(-1)\n",
    "            node.fit(x[idx_node], y[idx_node])\n",
    "            \n",
    "    def predict(self, x):\n",
    "        result = np.empty([x.shape[0]], dtype=np.int)\n",
    "        if len(self.children) == 0:\n",
    "            result[:] = self.id\n",
    "            return result\n",
    "        \n",
    "        y_node = self.model.predict(x)\n",
    "        for idx, node in enumerate(self.children):\n",
    "            idx_node = np.argwhere(y_node == idx).reshape(-1)\n",
    "            result[idx_node] = node.predict(x[idx_node])\n",
    "        return result"
   ]
  },
  {
   "cell_type": "code",
   "execution_count": 39,
   "metadata": {
    "code_folding": [
     0
    ]
   },
   "outputs": [],
   "source": [
    "def print_tree(current_node, childattr='children', nameattr='name', indent='', last='updown'):\n",
    "\n",
    "    if hasattr(current_node, nameattr):\n",
    "        name = lambda node: getattr(node, nameattr)\n",
    "    else:\n",
    "        name = lambda node: str(node)\n",
    "\n",
    "    children = lambda node: getattr(node, childattr)\n",
    "    nb_children = lambda node: sum(nb_children(child) for child in children(node)) + 1\n",
    "    size_branch = {child: nb_children(child) for child in children(current_node)}\n",
    "\n",
    "    \"\"\" Creation of balanced lists for \"up\" branch and \"down\" branch. \"\"\"\n",
    "    up = sorted(children(current_node), key=lambda node: nb_children(node))\n",
    "    down = []\n",
    "    while up and sum(size_branch[node] for node in down) < sum(size_branch[node] for node in up):\n",
    "        down.append(up.pop())\n",
    "\n",
    "    \"\"\" Printing of \"up\" branch. \"\"\"\n",
    "    for child in up:     \n",
    "        next_last = 'up' if up.index(child) is 0 else ''\n",
    "        next_indent = '{0}{1}{2}'.format(indent, ' ' if 'up' in last else '│', ' ' * len(name(current_node)))\n",
    "        print_tree(child, childattr, nameattr, next_indent, next_last)\n",
    "\n",
    "    \"\"\" Printing of current node. \"\"\"\n",
    "    if last == 'up': start_shape = '┌'\n",
    "    elif last == 'down': start_shape = '└'\n",
    "    elif last == 'updown': start_shape = ' '\n",
    "    else: start_shape = '├'\n",
    "\n",
    "    if up: end_shape = '┤'\n",
    "    elif down: end_shape = '┐'\n",
    "    else: end_shape = ''\n",
    "\n",
    "    print('{0}{1}{2}{3}'.format(indent, start_shape, name(current_node), end_shape))\n",
    "\n",
    "    \"\"\" Printing of \"down\" branch. \"\"\"\n",
    "    for child in down:\n",
    "        next_last = 'down' if down.index(child) is len(down) - 1 else ''\n",
    "        next_indent = '{0}{1}{2}'.format(indent, ' ' if 'down' in last else '│', ' ' * len(name(current_node)))\n",
    "        print_tree(child, childattr, nameattr, next_indent, next_last)"
   ]
  },
  {
   "cell_type": "markdown",
   "metadata": {},
   "source": [
    "Преобразуем табличные данные в вещественные вектора:\n",
    "* Поля title и description обрабатываются независимо.\n",
    "* С помощью TfidfVectorizer преобразуем строки переменной длины в вектора фиксированной длины.\n",
    "* Так как затем к данным будет применяться метрический алгоритм --- логистическая регрессия произведём нормализацию значений с помощью MaxAbsScaler"
   ]
  },
  {
   "cell_type": "code",
   "execution_count": 40,
   "metadata": {},
   "outputs": [],
   "source": [
    "tfidf_title = TfidfVectorizer(\n",
    "    encoding='utf-8', decode_error='strict', strip_accents='unicode', lowercase=True,\n",
    "    preprocessor=None, tokenizer=None, analyzer='word', stop_words=None, \n",
    "    token_pattern=r\"(?u)\\b\\w\\w+\\b\", ngram_range=(1, 1), max_df=1.0, min_df=1, \n",
    "    max_features=None, vocabulary=None, binary=False, dtype=np.float64, \n",
    "    norm='l2', use_idf=True, smooth_idf=True, sublinear_tf=False\n",
    ")\n",
    "tfidf_description = TfidfVectorizer(\n",
    "    encoding='utf-8', decode_error='strict', strip_accents='unicode', lowercase=True,\n",
    "    preprocessor=None, tokenizer=None, analyzer='word', stop_words=None, \n",
    "    token_pattern=r\"(?u)\\b\\w\\w+\\b\", ngram_range=(1, 1), max_df=1.0, min_df=1, \n",
    "    max_features=None, vocabulary=None, binary=False, dtype=np.float64, \n",
    "    norm='l2', use_idf=True, smooth_idf=True, sublinear_tf=False\n",
    ")\n",
    "\n",
    "scaler_title = MaxAbsScaler()\n",
    "scaler_description = MaxAbsScaler()\n",
    "scaler_price = MaxAbsScaler()\n",
    "\n",
    "x = scipy.sparse.hstack((\n",
    "    scaler_title.fit_transform(tfidf_title.fit_transform(train['title'])),\n",
    "    scaler_description.fit_transform(tfidf_description.fit_transform(train['description'])),\n",
    "    scaler_price.fit_transform(scipy.sparse.csr_matrix(train['price'].values.reshape(-1, 1)))\n",
    "))\n",
    "\n",
    "x_test = scipy.sparse.hstack((\n",
    "    scaler_title.transform(tfidf_title.transform(test['title'])),\n",
    "    scaler_description.transform(tfidf_description.transform(test['description'])),\n",
    "    scaler_price.transform(scipy.sparse.csr_matrix(test['price'].values.reshape(-1, 1)))\n",
    "))\n",
    "\n",
    "y = train['category_id'].values"
   ]
  },
  {
   "cell_type": "markdown",
   "metadata": {},
   "source": [
    "Разобъём выборку на обучающую и валидационную"
   ]
  },
  {
   "cell_type": "code",
   "execution_count": 41,
   "metadata": {},
   "outputs": [],
   "source": [
    "x_train, x_validate, y_train, y_validate = train_test_split(x, y, test_size=0.33, random_state=42)"
   ]
  },
  {
   "cell_type": "markdown",
   "metadata": {},
   "source": [
    "В качестве модели для предсказаний используем мультиномиальную логистическую регрессию"
   ]
  },
  {
   "cell_type": "code",
   "execution_count": 42,
   "metadata": {},
   "outputs": [],
   "source": [
    "model = LogisticRegression(\n",
    "    penalty='l2', dual=False, tol=1e-4, C=1, fit_intercept=True, \n",
    "    intercept_scaling=1, class_weight=None, random_state=None, \n",
    "    solver='sag', max_iter=150, multi_class='multinomial', \n",
    "    verbose=2, warm_start=False, n_jobs=-1\n",
    ")"
   ]
  },
  {
   "cell_type": "code",
   "execution_count": 43,
   "metadata": {},
   "outputs": [
    {
     "name": "stderr",
     "output_type": "stream",
     "text": [
      "[Parallel(n_jobs=-1)]: Using backend ThreadingBackend with 8 concurrent workers.\n"
     ]
    },
    {
     "name": "stdout",
     "output_type": "stream",
     "text": [
      "convergence after 142 epochs took 517 seconds\n"
     ]
    },
    {
     "name": "stderr",
     "output_type": "stream",
     "text": [
      "[Parallel(n_jobs=-1)]: Done   1 out of   1 | elapsed:  8.6min finished\n"
     ]
    },
    {
     "data": {
      "text/plain": [
       "LogisticRegression(C=1, class_weight=None, dual=False, fit_intercept=True,\n",
       "          intercept_scaling=1, max_iter=150, multi_class='multinomial',\n",
       "          n_jobs=-1, penalty='l2', random_state=None, solver='sag',\n",
       "          tol=0.0001, verbose=2, warm_start=False)"
      ]
     },
     "execution_count": 43,
     "metadata": {},
     "output_type": "execute_result"
    }
   ],
   "source": [
    "model.fit(x_train, y_train)"
   ]
  },
  {
   "cell_type": "code",
   "execution_count": 44,
   "metadata": {},
   "outputs": [],
   "source": [
    "y_predict = model.predict(x_validate)"
   ]
  },
  {
   "cell_type": "code",
   "execution_count": 45,
   "metadata": {},
   "outputs": [
    {
     "name": "stdout",
     "output_type": "stream",
     "text": [
      "Global accuracy: 0.8853\n"
     ]
    }
   ],
   "source": [
    "print('Global accuracy: {0:.4f}'.format(accuracy_score(y_validate, y_predict)))"
   ]
  },
  {
   "cell_type": "markdown",
   "metadata": {},
   "source": [
    "Теперь посмотрим на значение accuracy на каждом уровне иерархии"
   ]
  },
  {
   "cell_type": "code",
   "execution_count": 46,
   "metadata": {},
   "outputs": [
    {
     "data": {
      "text/html": [
       "<style>.container { width:100% !important; }</style>"
      ],
      "text/plain": [
       "<IPython.core.display.HTML object>"
      ]
     },
     "metadata": {},
     "output_type": "display_data"
    }
   ],
   "source": [
    "# Increase jupyther cells width to show nice picture\n",
    "\n",
    "from IPython.core.display import display, HTML\n",
    "display(HTML(\"<style>.container { width:100% !important; }</style>\"))"
   ]
  },
  {
   "cell_type": "code",
   "execution_count": 47,
   "metadata": {},
   "outputs": [
    {
     "name": "stdout",
     "output_type": "stream",
     "text": [
      "                                                     ┌ Красота и здоровье Accuracy: 0.899 ┐\n",
      "                                                     │                                    └ Приборы и аксессуары Id: 37 Accuracy: 0.899 \n",
      "                                                     │                                  ┌ Часы Id: 36 Accuracy: 0.952 \n",
      "                                                     ├ Часы и украшения Accuracy: 0.956 ┤\n",
      "                                                     │                                  └ Ювелирные изделия Id: 40 Accuracy: 0.962 \n",
      "                       ┌ Личные вещи Accuracy: 0.868 ┤\n",
      "                       │                             │                                           ┌ Аксессуары Id: 31 Accuracy: 0.733 \n",
      "                       │                             ├ Одежда, обувь, аксессуары Accuracy: 0.857 ┤\n",
      "                       │                             │                                           │                                ┌ Верхняя одежда Id: 33 Accuracy: 0.920 \n",
      "                       │                             │                                           │                                ├ Платья и юбки Id: 35 Accuracy: 0.951 \n",
      "                       │                             │                                           └ Женская одежда Accuracy: 0.886 ┤\n",
      "                       │                             │                                                                            ├ Обувь Id: 39 Accuracy: 0.973 \n",
      "                       │                             │                                                                            └ Другое Id: 38 Accuracy: 0.677 \n",
      "                       │                             │                                            ┌ Игрушки Id: 30 Accuracy: 0.790 \n",
      "                       │                             │                                            ├ Детские коляски Id: 32 Accuracy: 0.927 \n",
      "                       │                             └ Товары для детей и игрушки Accuracy: 0.830 ┤\n",
      "                       │                                                                          ├ Товары для кормления Id: 41 Accuracy: 0.887 \n",
      "                       │                                                                          └ Детская мебель Id: 34 Accuracy: 0.710 \n",
      "                       │                               ┌ Охота и рыбалка Id: 49 Accuracy: 0.886 \n",
      "                       │                               ├ Билеты и путешествия Accuracy: 0.990 ┐\n",
      "                       │                               │                                      └ Путешествия Id: 48 Accuracy: 0.990 \n",
      "                       │                               ├ Велосипеды Accuracy: 0.952 ┐\n",
      "                       │                               │                            └ Запчасти и аксессуары Id: 53 Accuracy: 0.952 \n",
      "                       │                               │                                 ┌ Книги Id: 43 Accuracy: 0.853 \n",
      "                       │                               ├ Книги и журналы Accuracy: 0.849 ┤\n",
      "                       │                               │                                 └ Учебная литература Id: 51 Accuracy: 0.845 \n",
      "                       ├ Хобби и отдых Accuracy: 0.872 ┤\n",
      "                       │                               │                               ┌ Зимние виды спорта Id: 42 Accuracy: 0.927 \n",
      "                       │                               ├ Спорт и отдых Accuracy: 0.820 ┤\n",
      "                       │                               │                               ├ Другое Id: 47 Accuracy: 0.643 \n",
      "                       │                               │                               └ Фитнес и тренажёры Id: 46 Accuracy: 0.904 \n",
      "                       │                               │                                         ┌ Гитары и другие струнные Id: 50 Accuracy: 0.927 \n",
      "                       │                               ├ Музыкальные инструменты Accuracy: 0.913 ┤\n",
      "                       │                               │                                         └ Для студии и концертов Id: 52 Accuracy: 0.900 \n",
      "                       │                               │                                    ┌ Другое Id: 44 Accuracy: 0.673 \n",
      "                       │                               └ Коллекционирование Accuracy: 0.825 ┤\n",
      "                       │                                                                    └ Монеты Id: 45 Accuracy: 0.971 \n",
      "  root Accuracy: 0.885 ┤\n",
      "                       │                                 ┌ Растения Id: 24 Accuracy: 0.957 \n",
      "                       │                                 ├ Посуда и товары для кухни Accuracy: 0.887 ┐\n",
      "                       │                                 │                                           └ Посуда Id: 20 Accuracy: 0.887 \n",
      "                       │                                 │                                        ┌ Стройматериалы Id: 15 Accuracy: 0.873 \n",
      "                       │                                 │                                        ├ Инструменты Id: 17 Accuracy: 0.892 \n",
      "                       │                                 ├ Ремонт и строительство Accuracy: 0.907 ┤\n",
      "                       │                                 │                                        ├ Двери Id: 25 Accuracy: 0.963 \n",
      "                       │                                 │                                        └ Сантехника и сауна Id: 21 Accuracy: 0.905 \n",
      "                       ├ Для дома и дачи Accuracy: 0.865 ┤\n",
      "                       │                                 │                                   ┌ Кровати, диваны и кресла Id: 16 Accuracy: 0.845 \n",
      "                       │                                 │                                   ├ Шкафы и комоды Id: 18 Accuracy: 0.865 \n",
      "                       │                                 │                                   ├ Предметы интерьера, искусство Id: 19 Accuracy: 0.629 \n",
      "                       │                                 ├ Мебель и интерьер Accuracy: 0.796 ┤\n",
      "                       │                                 │                                   ├ Освещение Id: 28 Accuracy: 0.942 \n",
      "                       │                                 │                                   ├ Текстиль и ковры Id: 27 Accuracy: 0.920 \n",
      "                       │                                 │                                   ├ Другое Id: 23 Accuracy: 0.433 \n",
      "                       │                                 │                                   └ Столы и стулья Id: 22 Accuracy: 0.939 \n",
      "                       │                                 │                                 ┌ Для дома Accuracy: 0.974 ┐\n",
      "                       │                                 │                                 │                          └ Стиральные машины Id: 26 Accuracy: 0.974 \n",
      "                       │                                 └ Бытовая техника Accuracy: 0.968 ┤\n",
      "                       │                                                                   └ Для кухни Accuracy: 0.963 ┐\n",
      "                       │                                                                                               └ Мелкая кухонная техника Id: 29 Accuracy: 0.963 \n",
      "                       │                                     ┌ Ноутбуки Id: 1 Accuracy: 0.961 \n",
      "                       │                                     ├ Настольные компьютеры Id: 7 Accuracy: 0.959 \n",
      "                       │                                     ├ Планшеты и электронные книги Accuracy: 0.936 ┐\n",
      "                       │                                     │                                              └ Планшеты Id: 3 Accuracy: 0.936 \n",
      "                       │                                     │                                             ┌ Игровые приставки Id: 4 Accuracy: 0.935 \n",
      "                       │                                     ├ Игры, приставки и программы Accuracy: 0.933 ┤\n",
      "                       │                                     │                                             └ Игры для приставок Id: 8 Accuracy: 0.932 \n"
     ]
    },
    {
     "name": "stdout",
     "output_type": "stream",
     "text": [
      "                       │                                     │                               ┌ Телевизоры и проекторы Id: 5 Accuracy: 0.960 \n",
      "                       │                                     ├ Аудио и видео Accuracy: 0.946 ┤\n",
      "                       │                                     │                               └ Акустика, колонки, сабвуферы Id: 12 Accuracy: 0.934 \n",
      "                       └ Бытовая электроника Accuracy: 0.933 ┤\n",
      "                                                             │                          ┌ iPhone Id: 0 Accuracy: 0.927 \n",
      "                                                             │                          ├ Samsung Id: 2 Accuracy: 0.922 \n",
      "                                                             │                          ├ Другие марки Id: 6 Accuracy: 0.854 \n",
      "                                                             ├ Телефоны Accuracy: 0.909 ┤\n",
      "                                                             │                          ├ Аксессуары Accuracy: 0.876 ┐\n",
      "                                                             │                          │                            └ Чехлы и плёнки Id: 9 Accuracy: 0.876 \n",
      "                                                             │                          ├ Sony Id: 11 Accuracy: 0.941 \n",
      "                                                             │                          └ Nokia Id: 10 Accuracy: 0.925 \n",
      "                                                             │                                       ┌ Мониторы Id: 13 Accuracy: 0.966 \n",
      "                                                             └ Товары для компьютера Accuracy: 0.962 ┤\n",
      "                                                                                                     └ Сетевое оборудование Id: 14 Accuracy: 0.957 \n"
     ]
    }
   ],
   "source": [
    "root = Node('root')\n",
    "root.build(categories)\n",
    "root.set_accurasies(y_predict=y_predict, y_true=y_validate)\n",
    "print_tree(root, nameattr='')"
   ]
  },
  {
   "cell_type": "markdown",
   "metadata": {},
   "source": [
    "Как видно, общий результат --- 88.5%. При этом хуже всего происходит классификация объявлений из категорий \"Другое\"."
   ]
  },
  {
   "cell_type": "code",
   "execution_count": 48,
   "metadata": {},
   "outputs": [],
   "source": [
    "y_test_predict = model.predict(x_test)"
   ]
  },
  {
   "cell_type": "code",
   "execution_count": 49,
   "metadata": {},
   "outputs": [],
   "source": [
    "with open(os.path.join(base_path, 'test_result.csv'), 'w') as file:\n",
    "    file.write('item_id,category_id\\n')\n",
    "    for idx, value in enumerate(y_test_predict):\n",
    "        file.write('{0:d},{1:d}\\n'.format(test['item_id'][idx], value))"
   ]
  }
 ],
 "metadata": {
  "kernelspec": {
   "display_name": "Python 3",
   "language": "python",
   "name": "python3"
  },
  "language_info": {
   "codemirror_mode": {
    "name": "ipython",
    "version": 3
   },
   "file_extension": ".py",
   "mimetype": "text/x-python",
   "name": "python",
   "nbconvert_exporter": "python",
   "pygments_lexer": "ipython3",
   "version": "3.7.0"
  }
 },
 "nbformat": 4,
 "nbformat_minor": 1
}
